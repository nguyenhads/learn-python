{
 "cells": [
  {
   "attachments": {},
   "cell_type": "markdown",
   "metadata": {},
   "source": [
    "## Reviewing Python Concepts - Part 2"
   ]
  },
  {
   "attachments": {},
   "cell_type": "markdown",
   "metadata": {},
   "source": [
    "## Contents\n",
    "\n",
    "* Conditional loop statement\n",
    "    * While logical condition\n",
    "    * Loop control\n",
    "\n",
    "* Iterative loop statement\n",
    "    * For loop\n",
    "    * Integer Sequences\n",
    "\n",
    "* Display statement\n",
    "    * Formatting\n",
    "* Input statement\n",
    "    * `input` statement always returns a string\n",
    "\n",
    "* Generic operations on containers\n",
    "\n",
    "* Operations on list\n",
    "* Operations on dictionary\n",
    "* Operations on set\n",
    "`-> Done`\n",
    "\n",
    "* Operations on strings\n",
    "\n",
    "* Files \n",
    "\n",
    "* Function Definition\n",
    "    * function calls\n",
    "\n",
    "* Class Definition"
   ]
  },
  {
   "attachments": {},
   "cell_type": "markdown",
   "metadata": {},
   "source": [
    "## Conditional loop statement"
   ]
  },
  {
   "cell_type": "code",
   "execution_count": 2,
   "metadata": {},
   "outputs": [
    {
     "name": "stdout",
     "output_type": "stream",
     "text": [
      "385\n"
     ]
    }
   ],
   "source": [
    "i = 0\n",
    "s = 0\n",
    "while i <= 10:\n",
    "    # i = i + 1\n",
    "    s = s + i ** 2\n",
    "    i +=1\n",
    "    break\n",
    "print(s)"
   ]
  },
  {
   "cell_type": "code",
   "execution_count": 11,
   "metadata": {},
   "outputs": [
    {
     "name": "stdout",
     "output_type": "stream",
     "text": [
      "Index: 1 item: a\n",
      "Index: 2 item: b\n",
      "Index: 3 item: c\n",
      "Index: 4 item: d\n",
      "Index: 5 item: e\n",
      "Index: 6 item: f\n",
      "Index: 7 item: g\n",
      "Index: 8 item: h\n"
     ]
    }
   ],
   "source": [
    "list_a = \"A B C D E F G H\".split()\n",
    "\n",
    "for ind, item in enumerate(list_a):\n",
    "    # ind = ind + 1\n",
    "    # item = item.lower()\n",
    "    # print(\"Index:\" ,ind, \"item:\", item) # similar C\n",
    "    # print(f\"Index: {ind + 1} item: {item.lower()}\")\n",
    "    print(\"Index: {} item: {}\".format(ind + 1, item.lower()))"
   ]
  },
  {
   "attachments": {},
   "cell_type": "markdown",
   "metadata": {},
   "source": [
    "## Formatting with `f` string"
   ]
  },
  {
   "cell_type": "code",
   "execution_count": 14,
   "metadata": {},
   "outputs": [
    {
     "name": "stdout",
     "output_type": "stream",
     "text": [
      "29.00\n"
     ]
    }
   ],
   "source": [
    "import random \n",
    "s = random.randint(0,100) / 3\n",
    "print(f\"{s:.2f}\")"
   ]
  },
  {
   "cell_type": "code",
   "execution_count": 17,
   "metadata": {},
   "outputs": [
    {
     "data": {
      "text/plain": [
       "'This is a comment for 200.69'"
      ]
     },
     "execution_count": 17,
     "metadata": {},
     "output_type": "execute_result"
    }
   ],
   "source": [
    "n = 200.68888\n",
    "f\"This is a comment for {n:.2f}\""
   ]
  },
  {
   "attachments": {},
   "cell_type": "markdown",
   "metadata": {},
   "source": [
    "## Parameters of `print()`"
   ]
  },
  {
   "cell_type": "code",
   "execution_count": 22,
   "metadata": {},
   "outputs": [
    {
     "name": "stdout",
     "output_type": "stream",
     "text": [
      "v=...3...cm :...10...,...24 + This is a comment\n"
     ]
    }
   ],
   "source": [
    "x = 10\n",
    "y = 20\n",
    "print(\"v=\", 3, \"cm :\", x, \",\", y+4, sep=\"...\", end=\" + \")\n",
    "print(\"This is a comment\")"
   ]
  },
  {
   "attachments": {},
   "cell_type": "markdown",
   "metadata": {},
   "source": [
    "## Generic operation on containers"
   ]
  },
  {
   "cell_type": "code",
   "execution_count": 23,
   "metadata": {},
   "outputs": [
    {
     "data": {
      "text/plain": [
       "8"
      ]
     },
     "execution_count": 23,
     "metadata": {},
     "output_type": "execute_result"
    }
   ],
   "source": [
    "list_a = \"A B C D E F G H\".split()\n",
    "len(list_a)"
   ]
  },
  {
   "cell_type": "code",
   "execution_count": 8,
   "metadata": {},
   "outputs": [
    {
     "data": {
      "text/plain": [
       "array([[1, 2, 3, 4, 5, 6],\n",
       "       [6, 2, 3, 4, 5, 6]])"
      ]
     },
     "execution_count": 8,
     "metadata": {},
     "output_type": "execute_result"
    }
   ],
   "source": [
    "import numpy as np\n",
    "num_array = np.array([[1, 2, 3, 4, 5, 6],\n",
    "                     [6, 2, 3, 4, 5, 6]])\n",
    "num_array"
   ]
  },
  {
   "cell_type": "code",
   "execution_count": 9,
   "metadata": {},
   "outputs": [
    {
     "data": {
      "text/plain": [
       "(2, 6)"
      ]
     },
     "execution_count": 9,
     "metadata": {},
     "output_type": "execute_result"
    }
   ],
   "source": [
    "num_array.shape"
   ]
  },
  {
   "cell_type": "code",
   "execution_count": 16,
   "metadata": {},
   "outputs": [
    {
     "data": {
      "text/plain": [
       "array([1, 2])"
      ]
     },
     "execution_count": 16,
     "metadata": {},
     "output_type": "execute_result"
    }
   ],
   "source": [
    "# min max sum\n",
    "np.min(num_array, axis=1)"
   ]
  },
  {
   "cell_type": "code",
   "execution_count": 3,
   "metadata": {},
   "outputs": [
    {
     "data": {
      "text/plain": [
       "6"
      ]
     },
     "execution_count": 3,
     "metadata": {},
     "output_type": "execute_result"
    }
   ],
   "source": [
    "np.max(num_array)"
   ]
  },
  {
   "cell_type": "code",
   "execution_count": 4,
   "metadata": {},
   "outputs": [
    {
     "data": {
      "text/plain": [
       "2.9166666666666665"
      ]
     },
     "execution_count": 4,
     "metadata": {},
     "output_type": "execute_result"
    }
   ],
   "source": [
    "np.var(num_array)"
   ]
  },
  {
   "cell_type": "code",
   "execution_count": 18,
   "metadata": {},
   "outputs": [
    {
     "data": {
      "text/plain": [
       "array([3.5       , 4.33333333])"
      ]
     },
     "execution_count": 18,
     "metadata": {},
     "output_type": "execute_result"
    }
   ],
   "source": [
    "np.mean(num_array, axis=1)"
   ]
  },
  {
   "cell_type": "code",
   "execution_count": 20,
   "metadata": {},
   "outputs": [
    {
     "data": {
      "text/plain": [
       "['A', 'B', 'C', 'D', 'E', 'F', 'G']"
      ]
     },
     "execution_count": 20,
     "metadata": {},
     "output_type": "execute_result"
    }
   ],
   "source": [
    "a_list = \"B C A D F G E\".split()\n",
    "sorted(a_list)"
   ]
  },
  {
   "cell_type": "code",
   "execution_count": 21,
   "metadata": {},
   "outputs": [
    {
     "name": "stdout",
     "output_type": "stream",
     "text": [
      "B 1\n",
      "C 2\n",
      "A 3\n",
      "D 4\n",
      "F 5\n",
      "G 6\n",
      "E 7\n"
     ]
    }
   ],
   "source": [
    "a_list = \"B C A D F G E\".split()\n",
    "b_list = [1, 2, 3, 4, 5, 6, 7]\n",
    "\n",
    "for a_item, b_item in zip(a_list, b_list):\n",
    "    print(a_item, b_item)"
   ]
  },
  {
   "attachments": {},
   "cell_type": "markdown",
   "metadata": {},
   "source": [
    "## Class"
   ]
  },
  {
   "attachments": {},
   "cell_type": "markdown",
   "metadata": {},
   "source": [
    "### Class Basic"
   ]
  },
  {
   "cell_type": "code",
   "execution_count": 1,
   "metadata": {},
   "outputs": [],
   "source": [
    "class Dog:\n",
    "    \"\"\"Dog class example\"\"\"\n",
    "    kind = 'canine'  # Class variable shared by all instances.\n",
    "\n",
    "    def __init__(self, name):\n",
    "        self.name = name  # Instance variable unique to each instance.\n",
    "\n",
    "fido = Dog('Fido')\n",
    "buddy = Dog('Buddy')"
   ]
  },
  {
   "cell_type": "code",
   "execution_count": 2,
   "metadata": {},
   "outputs": [],
   "source": [
    "# Shared by all dogs.\n",
    "assert fido.kind == 'canine'\n",
    "assert buddy.kind == 'canine'"
   ]
  },
  {
   "cell_type": "code",
   "execution_count": 5,
   "metadata": {},
   "outputs": [
    {
     "data": {
      "text/plain": [
       "'Fido'"
      ]
     },
     "execution_count": 5,
     "metadata": {},
     "output_type": "execute_result"
    }
   ],
   "source": [
    "fido.name"
   ]
  },
  {
   "cell_type": "code",
   "execution_count": 6,
   "metadata": {},
   "outputs": [
    {
     "data": {
      "text/plain": [
       "'Buddy'"
      ]
     },
     "execution_count": 6,
     "metadata": {},
     "output_type": "execute_result"
    }
   ],
   "source": [
    "buddy.name"
   ]
  },
  {
   "attachments": {},
   "cell_type": "markdown",
   "metadata": {},
   "source": [
    "### Shared data DO and DONT"
   ]
  },
  {
   "cell_type": "code",
   "execution_count": 7,
   "metadata": {},
   "outputs": [],
   "source": [
    "class DogWithSharedTricks:\n",
    "    \"\"\"Dog class example with wrong shared variable usage\"\"\"\n",
    "    tricks = []  # Mistaken use of a class variable (see below) for mutable objects.\n",
    "\n",
    "    def __init__(self, name):\n",
    "        self.name = name  # Instance variable unique to each instance.\n",
    "\n",
    "    def add_trick(self, trick):\n",
    "        \"\"\"Add trick to the dog\n",
    "\n",
    "        This function illustrate mistaken use of mutable class variable tricks (see below).\n",
    "        \"\"\"\n",
    "        self.tricks.append(trick)\n",
    "\n",
    "fido = DogWithSharedTricks('Fido')\n",
    "buddy = DogWithSharedTricks('Buddy')\n",
    "\n",
    "fido.add_trick('roll over')\n",
    "buddy.add_trick('play dead')"
   ]
  },
  {
   "cell_type": "code",
   "execution_count": 9,
   "metadata": {},
   "outputs": [
    {
     "data": {
      "text/plain": [
       "['roll over', 'play dead']"
      ]
     },
     "execution_count": 9,
     "metadata": {},
     "output_type": "execute_result"
    }
   ],
   "source": [
    "fido.tricks"
   ]
  },
  {
   "cell_type": "code",
   "execution_count": 10,
   "metadata": {},
   "outputs": [
    {
     "data": {
      "text/plain": [
       "['roll over', 'play dead']"
      ]
     },
     "execution_count": 10,
     "metadata": {},
     "output_type": "execute_result"
    }
   ],
   "source": [
    "buddy.tricks"
   ]
  },
  {
   "cell_type": "code",
   "execution_count": 11,
   "metadata": {},
   "outputs": [],
   "source": [
    "class DogWithTricks:\n",
    "    \"\"\"Dog class example\"\"\"\n",
    "\n",
    "    def __init__(self, name):\n",
    "        self.name = name  # Instance variable unique to each instance.\n",
    "        self.tricks = []  # creates a new empty list for each dog\n",
    "\n",
    "    def add_trick(self, trick):\n",
    "        \"\"\"Add trick to the dog\n",
    "\n",
    "        This function illustrate a correct use of mutable class variable tricks (see below).\n",
    "        \"\"\"\n",
    "        self.tricks.append(trick)\n",
    "\n",
    "fido = DogWithTricks('Fido')\n",
    "buddy = DogWithTricks('Buddy')\n",
    "\n",
    "fido.add_trick('roll over')\n",
    "buddy.add_trick('play dead')"
   ]
  },
  {
   "cell_type": "code",
   "execution_count": 12,
   "metadata": {},
   "outputs": [
    {
     "data": {
      "text/plain": [
       "['roll over']"
      ]
     },
     "execution_count": 12,
     "metadata": {},
     "output_type": "execute_result"
    }
   ],
   "source": [
    "fido.tricks"
   ]
  },
  {
   "cell_type": "code",
   "execution_count": 13,
   "metadata": {},
   "outputs": [
    {
     "data": {
      "text/plain": [
       "['play dead']"
      ]
     },
     "execution_count": 13,
     "metadata": {},
     "output_type": "execute_result"
    }
   ],
   "source": [
    "buddy.tricks"
   ]
  },
  {
   "attachments": {},
   "cell_type": "markdown",
   "metadata": {},
   "source": [
    "### Special method of Class"
   ]
  },
  {
   "cell_type": "code",
   "execution_count": 24,
   "metadata": {},
   "outputs": [],
   "source": [
    "class Vector:\n",
    "    \n",
    "    def __init__(self, x, y) -> None:\n",
    "        self.x = x\n",
    "        self.y = y\n",
    "        \n",
    "    def __add__(self, other):\n",
    "        return Vector(self.x + other.x, self.y + other.y)\n",
    "    \n",
    "    def __repr__(self) -> str:\n",
    "        return f\"({self.x}, {self.y})\"\n",
    "        \n",
    "\n",
    "v1 = Vector(1, 2)\n",
    "v2 = Vector(10, 20) \n",
    "    "
   ]
  },
  {
   "cell_type": "code",
   "execution_count": 25,
   "metadata": {},
   "outputs": [],
   "source": [
    "v3 = v1+ v2"
   ]
  },
  {
   "cell_type": "code",
   "execution_count": 26,
   "metadata": {},
   "outputs": [
    {
     "data": {
      "text/plain": [
       "(11, 22)"
      ]
     },
     "execution_count": 26,
     "metadata": {},
     "output_type": "execute_result"
    }
   ],
   "source": [
    "v3"
   ]
  },
  {
   "cell_type": "code",
   "execution_count": null,
   "metadata": {},
   "outputs": [],
   "source": []
  }
 ],
 "metadata": {
  "kernelspec": {
   "display_name": "customer_analysis",
   "language": "python",
   "name": "customer_analysis"
  },
  "language_info": {
   "codemirror_mode": {
    "name": "ipython",
    "version": 3
   },
   "file_extension": ".py",
   "mimetype": "text/x-python",
   "name": "python",
   "nbconvert_exporter": "python",
   "pygments_lexer": "ipython3",
   "version": "3.8.1"
  },
  "orig_nbformat": 4,
  "vscode": {
   "interpreter": {
    "hash": "a88674c905720b4f05b55155e7594bb4581e58ba227400867acf4eb398ddc458"
   }
  }
 },
 "nbformat": 4,
 "nbformat_minor": 2
}
