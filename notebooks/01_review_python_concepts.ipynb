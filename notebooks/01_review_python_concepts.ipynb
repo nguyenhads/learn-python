{
 "cells": [
  {
   "cell_type": "markdown",
   "id": "651215d0",
   "metadata": {},
   "source": [
    "## Review Python Concepts"
   ]
  },
  {
   "cell_type": "markdown",
   "id": "5b712046",
   "metadata": {},
   "source": [
    "Date: 2023.02.12 (Sun)\n",
    "\n",
    "Members: Huan, Ha"
   ]
  },
  {
   "cell_type": "markdown",
   "id": "de2aa372",
   "metadata": {},
   "source": [
    "* int\n",
    "* float\n",
    "* bool\n",
    "* str\n",
    "* bytes"
   ]
  },
  {
   "cell_type": "markdown",
   "id": "95b5941f",
   "metadata": {},
   "source": [
    "## Variables"
   ]
  },
  {
   "cell_type": "code",
   "execution_count": 101,
   "id": "4abbca56",
   "metadata": {},
   "outputs": [
    {
     "name": "stdout",
     "output_type": "stream",
     "text": [
      "Huan\n"
     ]
    }
   ],
   "source": [
    "name = \"Huan\"\n",
    "print(name)"
   ]
  },
  {
   "cell_type": "code",
   "execution_count": 102,
   "id": "b2354ba4",
   "metadata": {},
   "outputs": [],
   "source": [
    "# Name variable\n",
    "# helloWorld -> dont recommend\n",
    "\n",
    "# recommend\n",
    "hello_world = \"Hello World\"\n",
    "\n",
    "def hello_world():\n",
    "    pass\n",
    "\n",
    "# class HelloWorld():"
   ]
  },
  {
   "cell_type": "markdown",
   "id": "da3ebfba",
   "metadata": {},
   "source": [
    "* Style guide for Python code [PEP8](https://peps.python.org/pep-0008/)"
   ]
  },
  {
   "cell_type": "markdown",
   "id": "06177425",
   "metadata": {},
   "source": [
    "## Input"
   ]
  },
  {
   "cell_type": "code",
   "execution_count": 103,
   "id": "a862cfd0",
   "metadata": {},
   "outputs": [],
   "source": [
    "name = input(\"Please input your name: \")"
   ]
  },
  {
   "cell_type": "code",
   "execution_count": 104,
   "id": "dbaf6a15",
   "metadata": {},
   "outputs": [
    {
     "name": "stdout",
     "output_type": "stream",
     "text": [
      "10\n"
     ]
    }
   ],
   "source": [
    "print(name)"
   ]
  },
  {
   "cell_type": "code",
   "execution_count": 105,
   "id": "07ada951",
   "metadata": {},
   "outputs": [],
   "source": [
    "age = input(\"Age: \")"
   ]
  },
  {
   "cell_type": "code",
   "execution_count": 106,
   "id": "d562344d",
   "metadata": {},
   "outputs": [
    {
     "name": "stdout",
     "output_type": "stream",
     "text": [
      "<class 'str'>\n"
     ]
    }
   ],
   "source": [
    "print(type(age))"
   ]
  },
  {
   "cell_type": "markdown",
   "id": "a92ba980",
   "metadata": {},
   "source": [
    "## Arimetic operators"
   ]
  },
  {
   "cell_type": "markdown",
   "id": "7da33769",
   "metadata": {},
   "source": [
    "* Operators for number need to have same variable type\n",
    "    * `int`, `float`, `str`"
   ]
  },
  {
   "cell_type": "code",
   "execution_count": 107,
   "id": "a9efc50c",
   "metadata": {},
   "outputs": [
    {
     "data": {
      "text/plain": [
       "'helloworld'"
      ]
     },
     "execution_count": 107,
     "metadata": {},
     "output_type": "execute_result"
    }
   ],
   "source": [
    "\"hello\" + \"world\""
   ]
  },
  {
   "cell_type": "code",
   "execution_count": 108,
   "id": "2f672cbc",
   "metadata": {},
   "outputs": [
    {
     "data": {
      "text/plain": [
       "'hellohellohello'"
      ]
     },
     "execution_count": 108,
     "metadata": {},
     "output_type": "execute_result"
    }
   ],
   "source": [
    "\"hello\" * 3"
   ]
  },
  {
   "cell_type": "code",
   "execution_count": 109,
   "id": "ec213d8b",
   "metadata": {},
   "outputs": [
    {
     "name": "stdout",
     "output_type": "stream",
     "text": [
      "10 10 year\n"
     ]
    }
   ],
   "source": [
    "print(name, age, \"year\")"
   ]
  },
  {
   "cell_type": "code",
   "execution_count": 110,
   "id": "2b0f05b1",
   "metadata": {},
   "outputs": [
    {
     "data": {
      "text/plain": [
       "30"
      ]
     },
     "execution_count": 110,
     "metadata": {},
     "output_type": "execute_result"
    }
   ],
   "source": [
    "int(age) + 20"
   ]
  },
  {
   "cell_type": "code",
   "execution_count": 111,
   "id": "103d2d22",
   "metadata": {},
   "outputs": [
    {
     "name": "stdout",
     "output_type": "stream",
     "text": [
      "3\n",
      "1\n"
     ]
    }
   ],
   "source": [
    "x = 10\n",
    "y = 3\n",
    "\n",
    "# Chia lấy phần nguyên\n",
    "print(x // y)\n",
    "# Chia lấy phần dữ\n",
    "print(x % y)"
   ]
  },
  {
   "cell_type": "code",
   "execution_count": 112,
   "id": "600aa590",
   "metadata": {},
   "outputs": [
    {
     "data": {
      "text/plain": [
       "3.2"
      ]
     },
     "execution_count": 112,
     "metadata": {},
     "output_type": "execute_result"
    }
   ],
   "source": [
    "abs(-3.2)"
   ]
  },
  {
   "cell_type": "code",
   "execution_count": 113,
   "id": "f7c6ac6e",
   "metadata": {},
   "outputs": [
    {
     "data": {
      "text/plain": [
       "3.56"
      ]
     },
     "execution_count": 113,
     "metadata": {},
     "output_type": "execute_result"
    }
   ],
   "source": [
    "round(3.5555555, 2)"
   ]
  },
  {
   "cell_type": "code",
   "execution_count": 114,
   "id": "963787e8",
   "metadata": {},
   "outputs": [
    {
     "data": {
      "text/plain": [
       "64"
      ]
     },
     "execution_count": 114,
     "metadata": {},
     "output_type": "execute_result"
    }
   ],
   "source": [
    "4 ** 3 # or pow(4, 3)"
   ]
  },
  {
   "cell_type": "markdown",
   "id": "9f9679f1",
   "metadata": {},
   "source": [
    "## Comparision\n",
    "\n",
    "* `==`\n",
    "* `!=`\n",
    "..."
   ]
  },
  {
   "cell_type": "markdown",
   "id": "94bceb57",
   "metadata": {},
   "source": [
    "## Chain comparision"
   ]
  },
  {
   "cell_type": "code",
   "execution_count": 115,
   "id": "27b89c09",
   "metadata": {},
   "outputs": [],
   "source": [
    "x, y, z = 6, 8, 2"
   ]
  },
  {
   "cell_type": "code",
   "execution_count": 116,
   "id": "1e79da2d",
   "metadata": {},
   "outputs": [
    {
     "data": {
      "text/plain": [
       "False"
      ]
     },
     "execution_count": 116,
     "metadata": {},
     "output_type": "execute_result"
    }
   ],
   "source": [
    "result1 = x == y\n",
    "result1"
   ]
  },
  {
   "cell_type": "code",
   "execution_count": 117,
   "id": "3c0b82ea",
   "metadata": {},
   "outputs": [
    {
     "data": {
      "text/plain": [
       "True"
      ]
     },
     "execution_count": 117,
     "metadata": {},
     "output_type": "execute_result"
    }
   ],
   "source": [
    "result2 = y > z\n",
    "result2"
   ]
  },
  {
   "cell_type": "code",
   "execution_count": 118,
   "id": "7f4d8f45",
   "metadata": {},
   "outputs": [
    {
     "data": {
      "text/plain": [
       "False"
      ]
     },
     "execution_count": 118,
     "metadata": {},
     "output_type": "execute_result"
    }
   ],
   "source": [
    "result3 = result1 and (result2 or not result1)\n",
    "result3"
   ]
  },
  {
   "cell_type": "markdown",
   "id": "ee88e404",
   "metadata": {},
   "source": [
    "## Container types\n",
    "* list\n",
    "* tuple\n",
    "* dict\n",
    "* set"
   ]
  },
  {
   "cell_type": "markdown",
   "id": "9c82fa7e",
   "metadata": {},
   "source": [
    "### List []"
   ]
  },
  {
   "cell_type": "code",
   "execution_count": 119,
   "id": "3792fc08",
   "metadata": {},
   "outputs": [
    {
     "data": {
      "text/plain": [
       "['x', 11, False, 9.8]"
      ]
     },
     "execution_count": 119,
     "metadata": {},
     "output_type": "execute_result"
    }
   ],
   "source": [
    "l = [\"x\", 11, False, 9.8]\n",
    "l"
   ]
  },
  {
   "cell_type": "code",
   "execution_count": 120,
   "id": "53a5b09f",
   "metadata": {},
   "outputs": [
    {
     "data": {
      "text/plain": [
       "4"
      ]
     },
     "execution_count": 120,
     "metadata": {},
     "output_type": "execute_result"
    }
   ],
   "source": [
    "# length of list\n",
    "l2 = [2, 3, 4, 10]\n",
    "len(l2)"
   ]
  },
  {
   "cell_type": "code",
   "execution_count": 121,
   "id": "6c3a38a9",
   "metadata": {},
   "outputs": [],
   "source": [
    "l2.append(20)"
   ]
  },
  {
   "cell_type": "code",
   "execution_count": 122,
   "id": "3c4bffef",
   "metadata": {},
   "outputs": [
    {
     "data": {
      "text/plain": [
       "[2, 3, 4, 10, 20]"
      ]
     },
     "execution_count": 122,
     "metadata": {},
     "output_type": "execute_result"
    }
   ],
   "source": [
    "l2"
   ]
  },
  {
   "cell_type": "code",
   "execution_count": 123,
   "id": "2ac0fbd8",
   "metadata": {},
   "outputs": [],
   "source": [
    "l2.extend([2, 3, 4])"
   ]
  },
  {
   "cell_type": "code",
   "execution_count": 124,
   "id": "498a07aa",
   "metadata": {},
   "outputs": [
    {
     "data": {
      "text/plain": [
       "[2, 3, 4, 10, 20, 2, 3, 4]"
      ]
     },
     "execution_count": 124,
     "metadata": {},
     "output_type": "execute_result"
    }
   ],
   "source": [
    "l2"
   ]
  },
  {
   "cell_type": "code",
   "execution_count": 125,
   "id": "aa7fa84e",
   "metadata": {},
   "outputs": [
    {
     "data": {
      "text/plain": [
       "[0, 1, 4, 9, 16]"
      ]
     },
     "execution_count": 125,
     "metadata": {},
     "output_type": "execute_result"
    }
   ],
   "source": [
    "new_lst = []\n",
    "for i in range(5):\n",
    "    new_lst.append(i ** 2)\n",
    "new_lst"
   ]
  },
  {
   "cell_type": "code",
   "execution_count": 126,
   "id": "efb21af1",
   "metadata": {},
   "outputs": [
    {
     "data": {
      "text/plain": [
       "9"
      ]
     },
     "execution_count": 126,
     "metadata": {},
     "output_type": "execute_result"
    }
   ],
   "source": [
    "new_lst[3]"
   ]
  },
  {
   "cell_type": "code",
   "execution_count": 127,
   "id": "cafa6d37",
   "metadata": {},
   "outputs": [],
   "source": [
    "new_lst[3] = 100"
   ]
  },
  {
   "cell_type": "code",
   "execution_count": 128,
   "id": "44340ff5",
   "metadata": {},
   "outputs": [
    {
     "data": {
      "text/plain": [
       "[0, 1, 4, 100, 16]"
      ]
     },
     "execution_count": 128,
     "metadata": {},
     "output_type": "execute_result"
    }
   ],
   "source": [
    "new_lst"
   ]
  },
  {
   "cell_type": "markdown",
   "id": "8945821c",
   "metadata": {},
   "source": [
    "### Tuple ()"
   ]
  },
  {
   "cell_type": "code",
   "execution_count": 129,
   "id": "98efa2ab",
   "metadata": {},
   "outputs": [],
   "source": [
    "tp = (1, 2, 10, 25)"
   ]
  },
  {
   "cell_type": "code",
   "execution_count": 130,
   "id": "56d2091b",
   "metadata": {},
   "outputs": [
    {
     "ename": "AttributeError",
     "evalue": "'tuple' object has no attribute 'append'",
     "output_type": "error",
     "traceback": [
      "\u001b[1;31m---------------------------------------------------------------------------\u001b[0m",
      "\u001b[1;31mAttributeError\u001b[0m                            Traceback (most recent call last)",
      "Cell \u001b[1;32mIn [130], line 1\u001b[0m\n\u001b[1;32m----> 1\u001b[0m tp\u001b[39m.\u001b[39;49mappend(\u001b[39m20\u001b[39m)\n",
      "\u001b[1;31mAttributeError\u001b[0m: 'tuple' object has no attribute 'append'"
     ]
    }
   ],
   "source": [
    "tp.append(20)"
   ]
  },
  {
   "cell_type": "code",
   "execution_count": 131,
   "id": "88cad6a1",
   "metadata": {},
   "outputs": [
    {
     "data": {
      "text/plain": [
       "10"
      ]
     },
     "execution_count": 131,
     "metadata": {},
     "output_type": "execute_result"
    }
   ],
   "source": [
    "tp[2]"
   ]
  },
  {
   "cell_type": "code",
   "execution_count": 132,
   "id": "b28c7639",
   "metadata": {},
   "outputs": [
    {
     "ename": "TypeError",
     "evalue": "'tuple' object does not support item assignment",
     "output_type": "error",
     "traceback": [
      "\u001b[1;31m---------------------------------------------------------------------------\u001b[0m",
      "\u001b[1;31mTypeError\u001b[0m                                 Traceback (most recent call last)",
      "Cell \u001b[1;32mIn [132], line 1\u001b[0m\n\u001b[1;32m----> 1\u001b[0m tp[\u001b[39m2\u001b[39;49m] \u001b[39m=\u001b[39m \u001b[39m100\u001b[39m\n",
      "\u001b[1;31mTypeError\u001b[0m: 'tuple' object does not support item assignment"
     ]
    }
   ],
   "source": [
    "tp[2] = 100"
   ]
  },
  {
   "cell_type": "markdown",
   "id": "ae10cf1c",
   "metadata": {},
   "source": [
    "### Dictionary {}"
   ]
  },
  {
   "cell_type": "code",
   "execution_count": null,
   "id": "94bfed9e",
   "metadata": {},
   "outputs": [],
   "source": [
    "# dict = {\"key\":\"value\"}\n",
    "d1 = {\"mem1\": \"Huan\", \"mem2\": \"Ha\", \"mem3\": \"Tung\"}\n",
    "d2 = dict(a=3, b=4, k=\"v\")\n",
    "print(d1)\n",
    "print(d2)"
   ]
  },
  {
   "cell_type": "code",
   "execution_count": null,
   "id": "2995c967",
   "metadata": {},
   "outputs": [],
   "source": [
    "d1[\"mem2\"]"
   ]
  },
  {
   "cell_type": "code",
   "execution_count": null,
   "id": "3f8a2171",
   "metadata": {},
   "outputs": [],
   "source": [
    "print(d1.keys())\n",
    "print(d1.values())"
   ]
  },
  {
   "cell_type": "code",
   "execution_count": null,
   "id": "020c4bc3",
   "metadata": {},
   "outputs": [],
   "source": [
    "for key, value in d1.items():\n",
    "    print(key, value)"
   ]
  },
  {
   "cell_type": "markdown",
   "id": "18302660",
   "metadata": {},
   "source": [
    "### Set {}"
   ]
  },
  {
   "cell_type": "code",
   "execution_count": null,
   "id": "b45ddcea",
   "metadata": {},
   "outputs": [],
   "source": [
    "s1 = {3, 3, 10, 20, 20, 50}\n",
    "s2 = set([10, 3, 10, 20, 20, 50, 3])"
   ]
  },
  {
   "cell_type": "code",
   "execution_count": null,
   "id": "1be096bc",
   "metadata": {},
   "outputs": [],
   "source": [
    "s1"
   ]
  },
  {
   "cell_type": "code",
   "execution_count": null,
   "id": "ab1ce0d2",
   "metadata": {},
   "outputs": [],
   "source": [
    "s2"
   ]
  },
  {
   "cell_type": "markdown",
   "id": "4b6bff3d",
   "metadata": {},
   "source": [
    "## Comprehension"
   ]
  },
  {
   "cell_type": "code",
   "execution_count": null,
   "id": "72f99051",
   "metadata": {},
   "outputs": [],
   "source": [
    "# common way\n",
    "list_numbers = []\n",
    "for n in range(10):\n",
    "    list_numbers.append(n)\n",
    "list_numbers"
   ]
  },
  {
   "cell_type": "code",
   "execution_count": 133,
   "id": "942329cf",
   "metadata": {},
   "outputs": [
    {
     "data": {
      "text/plain": [
       "[0, 1, 2, 3, 4, 5, 6, 7, 8, 9]"
      ]
     },
     "execution_count": 133,
     "metadata": {},
     "output_type": "execute_result"
    }
   ],
   "source": [
    "list_numbers = [n for n in range(10)]\n",
    "list_numbers"
   ]
  },
  {
   "cell_type": "code",
   "execution_count": 134,
   "id": "c7b7dcd9",
   "metadata": {},
   "outputs": [
    {
     "data": {
      "text/plain": [
       "[0, 1, 2, 3, 4, 5, 6, 7, 8, 9]"
      ]
     },
     "execution_count": 134,
     "metadata": {},
     "output_type": "execute_result"
    }
   ],
   "source": [
    "# pythonic \n",
    "list_numbers = [n for n in range(10)] # range(start, stop, step)\n",
    "list_numbers"
   ]
  },
  {
   "cell_type": "code",
   "execution_count": 135,
   "id": "cb1cdc48",
   "metadata": {},
   "outputs": [
    {
     "data": {
      "text/plain": [
       "[0, 2, 4, 6, 8]"
      ]
     },
     "execution_count": 135,
     "metadata": {},
     "output_type": "execute_result"
    }
   ],
   "source": [
    "# common ways\n",
    "list_numbers = []\n",
    "for n in range(10):\n",
    "    if n % 2 == 0:\n",
    "        list_numbers.append(n)\n",
    "list_numbers"
   ]
  },
  {
   "cell_type": "code",
   "execution_count": 136,
   "id": "972457b3",
   "metadata": {},
   "outputs": [
    {
     "data": {
      "text/plain": [
       "[0, 2, 4, 6, 8]"
      ]
     },
     "execution_count": 136,
     "metadata": {},
     "output_type": "execute_result"
    }
   ],
   "source": [
    "# pythonic\n",
    "list_even_numbers = [n for n in range(10) if n % 2 ==0 ]\n",
    "list_even_numbers"
   ]
  },
  {
   "cell_type": "code",
   "execution_count": 137,
   "id": "d77d740a",
   "metadata": {},
   "outputs": [
    {
     "data": {
      "text/plain": [
       "{'mem1': 'Huan', 'mem2': 'Tung', 'mem3': 'Ha'}"
      ]
     },
     "execution_count": 137,
     "metadata": {},
     "output_type": "execute_result"
    }
   ],
   "source": [
    "# common way\n",
    "keys = [\"mem1\", \"mem2\", \"mem3\"]\n",
    "values = [\"Huan\", \"Tung\", \"Ha\"]\n",
    "new_dic = {} # dict()\n",
    "for key, value in zip(keys, values):\n",
    "    # print(key, value)\n",
    "    new_dic[key] = value\n",
    "new_dic "
   ]
  },
  {
   "cell_type": "code",
   "execution_count": 138,
   "id": "8dacf898",
   "metadata": {},
   "outputs": [
    {
     "name": "stdout",
     "output_type": "stream",
     "text": [
      "8.51 ms ± 2.08 ms per loop (mean ± std. dev. of 7 runs, 100 loops each)\n"
     ]
    }
   ],
   "source": [
    "%timeit new_lst = [n for n in range(100_000)]"
   ]
  },
  {
   "cell_type": "code",
   "execution_count": 139,
   "id": "c647c319",
   "metadata": {},
   "outputs": [
    {
     "data": {
      "text/plain": [
       "{'mem1': 'Huan', 'mem2': 'Tung', 'mem3': 'Ha'}"
      ]
     },
     "execution_count": 139,
     "metadata": {},
     "output_type": "execute_result"
    }
   ],
   "source": [
    "# pythonic for dict\n",
    "keys = [\"mem1\", \"mem2\", \"mem3\"]\n",
    "values = [\"Huan\", \"Tung\", \"Ha\", \"Others\"]\n",
    "new_dic = {key:value for key, value in zip(keys, values)}\n",
    "new_dic"
   ]
  },
  {
   "cell_type": "markdown",
   "id": "9fb960c8",
   "metadata": {},
   "source": [
    "## Sequence containers indexing"
   ]
  },
  {
   "cell_type": "code",
   "execution_count": 140,
   "id": "8ff5e8d7",
   "metadata": {},
   "outputs": [
    {
     "data": {
      "text/plain": [
       "[10, 20, 30, 40, 50]"
      ]
     },
     "execution_count": 140,
     "metadata": {},
     "output_type": "execute_result"
    }
   ],
   "source": [
    "lst = [n * 10 for n in range(1, 6)]\n",
    "lst"
   ]
  },
  {
   "cell_type": "code",
   "execution_count": 141,
   "id": "9e0c77ea",
   "metadata": {},
   "outputs": [
    {
     "data": {
      "text/plain": [
       "[20, 30, 40]"
      ]
     },
     "execution_count": 141,
     "metadata": {},
     "output_type": "execute_result"
    }
   ],
   "source": [
    "# access subsequence lst[start slice: end slice: step]\n",
    "lst[1:-1]"
   ]
  },
  {
   "cell_type": "code",
   "execution_count": 142,
   "id": "32241cec",
   "metadata": {},
   "outputs": [
    {
     "data": {
      "text/plain": [
       "[10, 30, 50]"
      ]
     },
     "execution_count": 142,
     "metadata": {},
     "output_type": "execute_result"
    }
   ],
   "source": [
    "lst[::2]"
   ]
  },
  {
   "cell_type": "code",
   "execution_count": 143,
   "id": "ca624657",
   "metadata": {},
   "outputs": [
    {
     "data": {
      "text/plain": [
       "[50, 40, 30, 20, 10]"
      ]
     },
     "execution_count": 143,
     "metadata": {},
     "output_type": "execute_result"
    }
   ],
   "source": [
    "lst[::-1]"
   ]
  },
  {
   "cell_type": "code",
   "execution_count": 144,
   "id": "5cb36421",
   "metadata": {},
   "outputs": [
    {
     "data": {
      "text/plain": [
       "'Ti sasrn'"
      ]
     },
     "execution_count": 144,
     "metadata": {},
     "output_type": "execute_result"
    }
   ],
   "source": [
    "s = \"This is a string\"\n",
    "s[::-1]\n",
    "s[::2]"
   ]
  },
  {
   "cell_type": "code",
   "execution_count": 145,
   "id": "ec11b915",
   "metadata": {},
   "outputs": [
    {
     "data": {
      "text/plain": [
       "[50, 30, 10]"
      ]
     },
     "execution_count": 145,
     "metadata": {},
     "output_type": "execute_result"
    }
   ],
   "source": [
    "lst[::-2]"
   ]
  },
  {
   "cell_type": "code",
   "execution_count": 146,
   "id": "48477e4f",
   "metadata": {},
   "outputs": [],
   "source": [
    "lst[1:-1] = [25, 35, 45]"
   ]
  },
  {
   "cell_type": "code",
   "execution_count": 147,
   "id": "5195ac7d",
   "metadata": {},
   "outputs": [
    {
     "data": {
      "text/plain": [
       "[10, 25, 35, 45, 50]"
      ]
     },
     "execution_count": 147,
     "metadata": {},
     "output_type": "execute_result"
    }
   ],
   "source": [
    "lst"
   ]
  },
  {
   "cell_type": "markdown",
   "id": "acc88e60",
   "metadata": {},
   "source": [
    "## Types"
   ]
  },
  {
   "cell_type": "code",
   "execution_count": 148,
   "id": "a6a86411",
   "metadata": {},
   "outputs": [
    {
     "data": {
      "text/plain": [
       "dict"
      ]
     },
     "execution_count": 148,
     "metadata": {},
     "output_type": "execute_result"
    }
   ],
   "source": [
    "type(new_dic)"
   ]
  },
  {
   "cell_type": "code",
   "execution_count": 149,
   "id": "984ccccb",
   "metadata": {},
   "outputs": [
    {
     "data": {
      "text/plain": [
       "str"
      ]
     },
     "execution_count": 149,
     "metadata": {},
     "output_type": "execute_result"
    }
   ],
   "source": [
    "type(name)"
   ]
  },
  {
   "cell_type": "code",
   "execution_count": 150,
   "id": "5f5e9f0b",
   "metadata": {},
   "outputs": [
    {
     "data": {
      "text/plain": [
       "int"
      ]
     },
     "execution_count": 150,
     "metadata": {},
     "output_type": "execute_result"
    }
   ],
   "source": [
    "type(int(age))"
   ]
  },
  {
   "cell_type": "markdown",
   "id": "7f49d1ea",
   "metadata": {},
   "source": [
    "## `math` for calculation"
   ]
  },
  {
   "cell_type": "code",
   "execution_count": 151,
   "id": "2dead2cd",
   "metadata": {},
   "outputs": [],
   "source": [
    "import math\n",
    "# from math import sin, cos, pi\n",
    "# from math import *"
   ]
  },
  {
   "cell_type": "code",
   "execution_count": 152,
   "id": "903d4f21",
   "metadata": {},
   "outputs": [
    {
     "data": {
      "text/plain": [
       "13"
      ]
     },
     "execution_count": 152,
     "metadata": {},
     "output_type": "execute_result"
    }
   ],
   "source": [
    "math.ceil(12.5)"
   ]
  },
  {
   "cell_type": "code",
   "execution_count": 153,
   "id": "47048757",
   "metadata": {},
   "outputs": [
    {
     "data": {
      "text/plain": [
       "12"
      ]
     },
     "execution_count": 153,
     "metadata": {},
     "output_type": "execute_result"
    }
   ],
   "source": [
    "math.floor(12.5)"
   ]
  },
  {
   "cell_type": "markdown",
   "id": "bdc39cb3",
   "metadata": {},
   "source": [
    "## Conditional Statement\n",
    "\n",
    "```\n",
    "if condition1:\n",
    "    do something\n",
    "\n",
    "elif condition2:\n",
    "    do another thing\n",
    "\n",
    "elif con...\n",
    "\n",
    "else:\n",
    "    Do the last thing\n",
    "```"
   ]
  },
  {
   "cell_type": "code",
   "execution_count": 154,
   "id": "95b3547a",
   "metadata": {},
   "outputs": [
    {
     "name": "stdout",
     "output_type": "stream",
     "text": [
      "Active\n"
     ]
    }
   ],
   "source": [
    "age = int(input(\"Age :\"))\n",
    "\n",
    "if age <= 18:\n",
    "    state = \"Kid\"\n",
    "elif age > 65:\n",
    "    state = \"Retired\"\n",
    "else:\n",
    "    state = \"Active\"\n",
    "    \n",
    "print(state)"
   ]
  },
  {
   "cell_type": "markdown",
   "id": "0014e1cc",
   "metadata": {},
   "source": [
    "## Handle Errors"
   ]
  },
  {
   "cell_type": "markdown",
   "id": "67b7864c",
   "metadata": {},
   "source": [
    "```\n",
    "try:\n",
    "    Do sth\n",
    "except Exception as e:\n",
    "    print(e)\n",
    "\n",
    "finally:\n",
    "    Do anyway\n",
    "```"
   ]
  },
  {
   "cell_type": "code",
   "execution_count": 155,
   "id": "8f7ebe50",
   "metadata": {},
   "outputs": [
    {
     "name": "stdout",
     "output_type": "stream",
     "text": [
      "division by zero\n",
      "This block always run!\n",
      "Program is still running\n"
     ]
    }
   ],
   "source": [
    "x = 10\n",
    "y = 0\n",
    "\n",
    "try:\n",
    "    result = x / y\n",
    "\n",
    "except Exception as e:\n",
    "    print(e)\n",
    "    \n",
    "finally:\n",
    "    print(\"This block always run!\")\n",
    "    \n",
    "print(\"Program is still running\")"
   ]
  },
  {
   "cell_type": "code",
   "execution_count": 156,
   "id": "78d0ca81",
   "metadata": {},
   "outputs": [
    {
     "ename": "ZeroDivisionError",
     "evalue": "division by zero",
     "output_type": "error",
     "traceback": [
      "\u001b[1;31m---------------------------------------------------------------------------\u001b[0m",
      "\u001b[1;31mZeroDivisionError\u001b[0m                         Traceback (most recent call last)",
      "Cell \u001b[1;32mIn [156], line 1\u001b[0m\n\u001b[1;32m----> 1\u001b[0m result \u001b[39m=\u001b[39m x \u001b[39m/\u001b[39;49m y\n\u001b[0;32m      3\u001b[0m \u001b[39mprint\u001b[39m(\u001b[39m\"\u001b[39m\u001b[39mProgram is still running\u001b[39m\u001b[39m\"\u001b[39m)\n",
      "\u001b[1;31mZeroDivisionError\u001b[0m: division by zero"
     ]
    }
   ],
   "source": [
    "result = x / y\n",
    "\n",
    "print(\"Program is still running\")"
   ]
  },
  {
   "cell_type": "code",
   "execution_count": null,
   "id": "7a21af30",
   "metadata": {},
   "outputs": [],
   "source": []
  },
  {
   "cell_type": "code",
   "execution_count": null,
   "id": "148d5e22",
   "metadata": {},
   "outputs": [],
   "source": []
  },
  {
   "cell_type": "code",
   "execution_count": null,
   "id": "3583b36f",
   "metadata": {},
   "outputs": [],
   "source": []
  }
 ],
 "metadata": {
  "kernelspec": {
   "display_name": "Python 3 (ipykernel)",
   "language": "python",
   "name": "python3"
  },
  "language_info": {
   "codemirror_mode": {
    "name": "ipython",
    "version": 3
   },
   "file_extension": ".py",
   "mimetype": "text/x-python",
   "name": "python",
   "nbconvert_exporter": "python",
   "pygments_lexer": "ipython3",
   "version": "3.8.16"
  },
  "vscode": {
   "interpreter": {
    "hash": "d98c72fc774828ccfc23d58432596e7235022d866218f8d54bf7e63bd9da7afc"
   }
  }
 },
 "nbformat": 4,
 "nbformat_minor": 5
}
